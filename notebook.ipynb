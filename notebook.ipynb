{
 "cells": [
  {
   "cell_type": "markdown",
   "id": "fc82a8e4",
   "metadata": {},
   "source": [
    "# How to use our wav2vec 2.0 model to predict age and gender"
   ]
  },
  {
   "cell_type": "markdown",
   "id": "23f9dd5c",
   "metadata": {},
   "source": [
    "In the following we present a hands-on to our model for age and gender prediction based on wav2vec 2.0. The model is publicly available for non-commercial usage from https://doi.org/10.5281/zenodo.7761387."
   ]
  },
  {
   "cell_type": "markdown",
   "id": "313f2e2f",
   "metadata": {
    "hide_input": false
   },
   "source": [
    "## Load model"
   ]
  },
  {
   "cell_type": "markdown",
   "id": "af91aa2a",
   "metadata": {},
   "source": [
    "We start by downloading and unpacking the model (we will use the six layer version). This will get us two files, a binary ONNX file containing the model weights and a YAML file with meta information about the model."
   ]
  },
  {
   "cell_type": "code",
   "execution_count": 1,
   "id": "5fa18d66",
   "metadata": {
    "scrolled": true
   },
   "outputs": [],
   "source": [
    "import os\n",
    "\n",
    "import audeer\n",
    "\n",
    "\n",
    "model_root = 'model'\n",
    "cache_root = 'cache'\n",
    "\n",
    "\n",
    "audeer.mkdir(cache_root)\n",
    "def cache_path(file):\n",
    "    return os.path.join(cache_root, file)\n",
    "\n",
    "\n",
    "url = 'https://zenodo.org/record/7761387/files/w2v2-L-robust-6-age-gender.25c844af-1.1.1.zip'\n",
    "dst_path = cache_path('model.zip')\n",
    "\n",
    "if not os.path.exists(dst_path):\n",
    "    audeer.download_url(url, dst_path, verbose=True)\n",
    "    \n",
    "if not os.path.exists(model_root):\n",
    "    audeer.extract_archive(dst_path, model_root, verbose=True)"
   ]
  },
  {
   "cell_type": "markdown",
   "id": "4b5c7928",
   "metadata": {},
   "source": [
    "The package [audonnx](https://github.com/audeering/audonnx) helps us to load the model. Printing the model lists the input and output nodes. Since the model operates on the raw audio stream, we have a single input node called 'signal', which expects a mono signal with a sampling rate of 16000 Hz. We also see that the model has two output nodes: 'hidden_states', which gives us access to the pooled states of the last transformer layer, 'logits_age', which provides scores for age in a range of approximately 0...1 (== 100 years) and 'logits_gender', which expresses the confidence for being female, male or child."
   ]
  },
  {
   "cell_type": "code",
   "execution_count": 2,
   "id": "f0b1a074",
   "metadata": {
    "scrolled": true
   },
   "outputs": [
    {
     "data": {
      "text/plain": [
       "Input:\n",
       "  signal:\n",
       "    shape: [1, -1]\n",
       "    dtype: tensor(float)\n",
       "    transform: None\n",
       "Output:\n",
       "  hidden_states:\n",
       "    shape: [1, 1024]\n",
       "    dtype: tensor(float)\n",
       "    labels: [hidden_states-0, hidden_states-1, hidden_states-2, (...), hidden_states-1021,\n",
       "      hidden_states-1022, hidden_states-1023]\n",
       "  logits_age:\n",
       "    shape: [1, 1]\n",
       "    dtype: tensor(float)\n",
       "    labels: [age]\n",
       "  logits_gender:\n",
       "    shape: [1, 3]\n",
       "    dtype: tensor(float)\n",
       "    labels: [female, male, child]"
      ]
     },
     "execution_count": 2,
     "metadata": {},
     "output_type": "execute_result"
    }
   ],
   "source": [
    "import audonnx\n",
    "\n",
    "\n",
    "model = audonnx.load(model_root)\n",
    "model"
   ]
  },
  {
   "cell_type": "markdown",
   "id": "573cf22f",
   "metadata": {},
   "source": [
    "As a test, we call the model with some white noise. Note that we have to force the data type of the signal to 32-bit floating point precision. As result we get a dictionary with predictions for every output node."
   ]
  },
  {
   "cell_type": "code",
   "execution_count": 3,
   "id": "9ef10804",
   "metadata": {},
   "outputs": [
    {
     "data": {
      "text/plain": [
       "{'hidden_states': array([[ 0.02783544,  0.01402022,  0.03839185, ...,  0.00786646,\n",
       "         -0.09332313,  0.0915948 ]], dtype=float32),\n",
       " 'logits_age': array([[0.3961048]], dtype=float32),\n",
       " 'logits_gender': array([[ 0.32810774, -0.56528044,  0.0317882 ]], dtype=float32)}"
      ]
     },
     "execution_count": 3,
     "metadata": {},
     "output_type": "execute_result"
    }
   ],
   "source": [
    "import numpy as np\n",
    "\n",
    "\n",
    "np.random.seed(0)\n",
    "\n",
    "sampling_rate = 16000\n",
    "signal = np.random.normal(\n",
    "    size=sampling_rate,\n",
    ").astype(np.float32)\n",
    "\n",
    "model(signal, sampling_rate)"
   ]
  },
  {
   "cell_type": "markdown",
   "id": "c016311c",
   "metadata": {},
   "source": [
    "## Predict age and gender"
   ]
  },
  {
   "cell_type": "markdown",
   "id": "f17622eb",
   "metadata": {},
   "source": [
    "A more advanced way of interfacing the model is offered by [audinterface](https://github.com/audeering/audinterface). Especially, the class [Feature](https://audeering.github.io/audinterface/api.html#feature) comes in handy, as it has the option to assign names to the output dimensions. To create the interface, we simply pass our callable model object as processing function. Since we are only interested in the scores for age and gender, we pass 'logits_age' and 'logits_gender' as an additional key word argument to `outputs`. To concatenate the outputs we set `concat` to `True`. And we enable automatic resampling in case the expected sampling rate of the model is not matched."
   ]
  },
  {
   "cell_type": "code",
   "execution_count": 4,
   "id": "877be883",
   "metadata": {},
   "outputs": [],
   "source": [
    "import audinterface\n",
    "\n",
    "\n",
    "outputs = ['logits_age', 'logits_gender']\n",
    "interface = audinterface.Feature(\n",
    "    model.labels(outputs),\n",
    "    process_func=model,\n",
    "    process_func_args={\n",
    "        'outputs': outputs,\n",
    "        'concat': True,\n",
    "    },\n",
    "    sampling_rate=sampling_rate,\n",
    "    resample=True,    \n",
    "    verbose=True,\n",
    ")"
   ]
  },
  {
   "cell_type": "markdown",
   "id": "9ead873c",
   "metadata": {},
   "source": [
    "When we pass the signal to the interface, we get as result a table with proper column labels."
   ]
  },
  {
   "cell_type": "code",
   "execution_count": 5,
   "id": "6f001a87",
   "metadata": {
    "scrolled": true
   },
   "outputs": [
    {
     "data": {
      "text/html": [
       "<div>\n",
       "<style scoped>\n",
       "    .dataframe tbody tr th:only-of-type {\n",
       "        vertical-align: middle;\n",
       "    }\n",
       "\n",
       "    .dataframe tbody tr th {\n",
       "        vertical-align: top;\n",
       "    }\n",
       "\n",
       "    .dataframe thead th {\n",
       "        text-align: right;\n",
       "    }\n",
       "</style>\n",
       "<table border=\"1\" class=\"dataframe\">\n",
       "  <thead>\n",
       "    <tr style=\"text-align: right;\">\n",
       "      <th></th>\n",
       "      <th></th>\n",
       "      <th>age</th>\n",
       "      <th>female</th>\n",
       "      <th>male</th>\n",
       "      <th>child</th>\n",
       "    </tr>\n",
       "    <tr>\n",
       "      <th>start</th>\n",
       "      <th>end</th>\n",
       "      <th></th>\n",
       "      <th></th>\n",
       "      <th></th>\n",
       "      <th></th>\n",
       "    </tr>\n",
       "  </thead>\n",
       "  <tbody>\n",
       "    <tr>\n",
       "      <th>0 days</th>\n",
       "      <th>0 days 00:00:01</th>\n",
       "      <td>0.396105</td>\n",
       "      <td>0.328108</td>\n",
       "      <td>-0.56528</td>\n",
       "      <td>0.031788</td>\n",
       "    </tr>\n",
       "  </tbody>\n",
       "</table>\n",
       "</div>"
      ],
      "text/plain": [
       "                             age    female     male     child\n",
       "start  end                                                   \n",
       "0 days 0 days 00:00:01  0.396105  0.328108 -0.56528  0.031788"
      ]
     },
     "execution_count": 5,
     "metadata": {},
     "output_type": "execute_result"
    }
   ],
   "source": [
    "interface.process_signal(signal, sampling_rate)"
   ]
  },
  {
   "cell_type": "markdown",
   "id": "c411a9ff",
   "metadata": {},
   "source": [
    "## Evaluate model on emodb"
   ]
  },
  {
   "cell_type": "markdown",
   "id": "68188d94",
   "metadata": {},
   "source": [
    "The Berlin Database of Emotional Speech ([Emo-DB](emodb.bilderbar.info)) is a well known speech databases with emotional utterances by different actors. It contains information on speaker age and gender, and expressions of emotional and non-emotional sentences in German. It will allow us to investigate if a) the model works on languages other than English b) it still works for affective speech. To get the database we use [audb](https://github.com/audeering/audb), a package to manage annotated media files. When we load the data, audb takes care of caching and converting the files to the desired format. Annotations are organized as tables in [audformat](https://github.com/audeering/audformat). In the following experiment we use columns with speaker information and emotional labels."
   ]
  },
  {
   "cell_type": "code",
   "execution_count": 6,
   "id": "4ef6e326",
   "metadata": {
    "scrolled": true
   },
   "outputs": [
    {
     "name": "stdout",
     "output_type": "stream",
     "text": [
      "Get:   emodb v1.3.0\n",
      "Cache: /media/jwagner/Data/Git/how-to/w2v2-age-gender-how-to/cache/emodb/1.3.0/fe182b91\n"
     ]
    },
    {
     "name": "stderr",
     "output_type": "stream",
     "text": [
      "                                                                                                    \r"
     ]
    },
    {
     "data": {
      "text/html": [
       "<div>\n",
       "<style scoped>\n",
       "    .dataframe tbody tr th:only-of-type {\n",
       "        vertical-align: middle;\n",
       "    }\n",
       "\n",
       "    .dataframe tbody tr th {\n",
       "        vertical-align: top;\n",
       "    }\n",
       "\n",
       "    .dataframe thead th {\n",
       "        text-align: right;\n",
       "    }\n",
       "</style>\n",
       "<table border=\"1\" class=\"dataframe\">\n",
       "  <thead>\n",
       "    <tr style=\"text-align: right;\">\n",
       "      <th></th>\n",
       "      <th>age</th>\n",
       "      <th>gender</th>\n",
       "      <th>emotion</th>\n",
       "    </tr>\n",
       "    <tr>\n",
       "      <th>file</th>\n",
       "      <th></th>\n",
       "      <th></th>\n",
       "      <th></th>\n",
       "    </tr>\n",
       "  </thead>\n",
       "  <tbody>\n",
       "    <tr>\n",
       "      <th>wav/03a01Fa.wav</th>\n",
       "      <td>31</td>\n",
       "      <td>male</td>\n",
       "      <td>happiness</td>\n",
       "    </tr>\n",
       "    <tr>\n",
       "      <th>wav/03a01Nc.wav</th>\n",
       "      <td>31</td>\n",
       "      <td>male</td>\n",
       "      <td>neutral</td>\n",
       "    </tr>\n",
       "    <tr>\n",
       "      <th>wav/03a01Wa.wav</th>\n",
       "      <td>31</td>\n",
       "      <td>male</td>\n",
       "      <td>anger</td>\n",
       "    </tr>\n",
       "    <tr>\n",
       "      <th>wav/03a02Fc.wav</th>\n",
       "      <td>31</td>\n",
       "      <td>male</td>\n",
       "      <td>happiness</td>\n",
       "    </tr>\n",
       "    <tr>\n",
       "      <th>wav/03a02Nc.wav</th>\n",
       "      <td>31</td>\n",
       "      <td>male</td>\n",
       "      <td>neutral</td>\n",
       "    </tr>\n",
       "    <tr>\n",
       "      <th>...</th>\n",
       "      <td>...</td>\n",
       "      <td>...</td>\n",
       "      <td>...</td>\n",
       "    </tr>\n",
       "    <tr>\n",
       "      <th>wav/16b10Lb.wav</th>\n",
       "      <td>31</td>\n",
       "      <td>female</td>\n",
       "      <td>boredom</td>\n",
       "    </tr>\n",
       "    <tr>\n",
       "      <th>wav/16b10Tb.wav</th>\n",
       "      <td>31</td>\n",
       "      <td>female</td>\n",
       "      <td>sadness</td>\n",
       "    </tr>\n",
       "    <tr>\n",
       "      <th>wav/16b10Td.wav</th>\n",
       "      <td>31</td>\n",
       "      <td>female</td>\n",
       "      <td>sadness</td>\n",
       "    </tr>\n",
       "    <tr>\n",
       "      <th>wav/16b10Wa.wav</th>\n",
       "      <td>31</td>\n",
       "      <td>female</td>\n",
       "      <td>anger</td>\n",
       "    </tr>\n",
       "    <tr>\n",
       "      <th>wav/16b10Wb.wav</th>\n",
       "      <td>31</td>\n",
       "      <td>female</td>\n",
       "      <td>anger</td>\n",
       "    </tr>\n",
       "  </tbody>\n",
       "</table>\n",
       "<p>535 rows × 3 columns</p>\n",
       "</div>"
      ],
      "text/plain": [
       "                 age  gender    emotion\n",
       "file                                   \n",
       "wav/03a01Fa.wav   31    male  happiness\n",
       "wav/03a01Nc.wav   31    male    neutral\n",
       "wav/03a01Wa.wav   31    male      anger\n",
       "wav/03a02Fc.wav   31    male  happiness\n",
       "wav/03a02Nc.wav   31    male    neutral\n",
       "...              ...     ...        ...\n",
       "wav/16b10Lb.wav   31  female    boredom\n",
       "wav/16b10Tb.wav   31  female    sadness\n",
       "wav/16b10Td.wav   31  female    sadness\n",
       "wav/16b10Wa.wav   31  female      anger\n",
       "wav/16b10Wb.wav   31  female      anger\n",
       "\n",
       "[535 rows x 3 columns]"
      ]
     },
     "execution_count": 6,
     "metadata": {},
     "output_type": "execute_result"
    }
   ],
   "source": [
    "import audb\n",
    "import audformat\n",
    "\n",
    "\n",
    "db = audb.load(\n",
    "    'emodb',\n",
    "    version='1.3.0',\n",
    "    format='wav',\n",
    "    mixdown=True,\n",
    "    sampling_rate=16000,\n",
    "    full_path=False,    \n",
    "    cache_root=cache_root,\n",
    "    verbose=True,\n",
    ")\n",
    "age = db['files']['speaker'].get(map='age')\n",
    "gender = db['files']['speaker'].get(map='gender')\n",
    "emotion = db['emotion']['emotion'].get()\n",
    "\n",
    "df = audformat.utils.concat([age, gender, emotion])\n",
    "df"
   ]
  },
  {
   "cell_type": "markdown",
   "id": "04a2c177",
   "metadata": {},
   "source": [
    "The interface we created earlier offers us a convenient way to run the model directly on the index of a table. Note that we cache the feature once extracted to avoid re-calculation."
   ]
  },
  {
   "cell_type": "code",
   "execution_count": 7,
   "id": "f7bca356",
   "metadata": {},
   "outputs": [
    {
     "data": {
      "text/html": [
       "<div>\n",
       "<style scoped>\n",
       "    .dataframe tbody tr th:only-of-type {\n",
       "        vertical-align: middle;\n",
       "    }\n",
       "\n",
       "    .dataframe tbody tr th {\n",
       "        vertical-align: top;\n",
       "    }\n",
       "\n",
       "    .dataframe thead th {\n",
       "        text-align: right;\n",
       "    }\n",
       "</style>\n",
       "<table border=\"1\" class=\"dataframe\">\n",
       "  <thead>\n",
       "    <tr style=\"text-align: right;\">\n",
       "      <th></th>\n",
       "      <th></th>\n",
       "      <th></th>\n",
       "      <th>age</th>\n",
       "      <th>female</th>\n",
       "      <th>male</th>\n",
       "      <th>child</th>\n",
       "    </tr>\n",
       "    <tr>\n",
       "      <th>file</th>\n",
       "      <th>start</th>\n",
       "      <th>end</th>\n",
       "      <th></th>\n",
       "      <th></th>\n",
       "      <th></th>\n",
       "      <th></th>\n",
       "    </tr>\n",
       "  </thead>\n",
       "  <tbody>\n",
       "    <tr>\n",
       "      <th>wav/03a01Fa.wav</th>\n",
       "      <th>0 days</th>\n",
       "      <th>0 days 00:00:01.898250</th>\n",
       "      <td>0.440541</td>\n",
       "      <td>1.464881</td>\n",
       "      <td>4.078879</td>\n",
       "      <td>-4.503115</td>\n",
       "    </tr>\n",
       "    <tr>\n",
       "      <th>wav/03a01Nc.wav</th>\n",
       "      <th>0 days</th>\n",
       "      <th>0 days 00:00:01.611250</th>\n",
       "      <td>0.262211</td>\n",
       "      <td>-1.394964</td>\n",
       "      <td>6.082706</td>\n",
       "      <td>-3.376553</td>\n",
       "    </tr>\n",
       "    <tr>\n",
       "      <th>wav/03a01Wa.wav</th>\n",
       "      <th>0 days</th>\n",
       "      <th>0 days 00:00:01.877812500</th>\n",
       "      <td>0.417828</td>\n",
       "      <td>0.194385</td>\n",
       "      <td>5.651813</td>\n",
       "      <td>-4.512995</td>\n",
       "    </tr>\n",
       "    <tr>\n",
       "      <th>wav/03a02Fc.wav</th>\n",
       "      <th>0 days</th>\n",
       "      <th>0 days 00:00:02.006250</th>\n",
       "      <td>0.311120</td>\n",
       "      <td>1.907180</td>\n",
       "      <td>1.848307</td>\n",
       "      <td>-3.264290</td>\n",
       "    </tr>\n",
       "    <tr>\n",
       "      <th>wav/03a02Nc.wav</th>\n",
       "      <th>0 days</th>\n",
       "      <th>0 days 00:00:01.439812500</th>\n",
       "      <td>0.287216</td>\n",
       "      <td>-1.302027</td>\n",
       "      <td>6.188240</td>\n",
       "      <td>-3.562538</td>\n",
       "    </tr>\n",
       "    <tr>\n",
       "      <th>...</th>\n",
       "      <th>...</th>\n",
       "      <th>...</th>\n",
       "      <td>...</td>\n",
       "      <td>...</td>\n",
       "      <td>...</td>\n",
       "      <td>...</td>\n",
       "    </tr>\n",
       "    <tr>\n",
       "      <th>wav/16b10Lb.wav</th>\n",
       "      <th>0 days</th>\n",
       "      <th>0 days 00:00:03.442687500</th>\n",
       "      <td>0.399840</td>\n",
       "      <td>6.157269</td>\n",
       "      <td>-1.738880</td>\n",
       "      <td>-4.453460</td>\n",
       "    </tr>\n",
       "    <tr>\n",
       "      <th>wav/16b10Tb.wav</th>\n",
       "      <th>0 days</th>\n",
       "      <th>0 days 00:00:03.500625</th>\n",
       "      <td>0.391874</td>\n",
       "      <td>5.663276</td>\n",
       "      <td>-0.568825</td>\n",
       "      <td>-4.939527</td>\n",
       "    </tr>\n",
       "    <tr>\n",
       "      <th>wav/16b10Td.wav</th>\n",
       "      <th>0 days</th>\n",
       "      <th>0 days 00:00:03.934187500</th>\n",
       "      <td>0.354147</td>\n",
       "      <td>5.773487</td>\n",
       "      <td>-1.090130</td>\n",
       "      <td>-4.626004</td>\n",
       "    </tr>\n",
       "    <tr>\n",
       "      <th>wav/16b10Wa.wav</th>\n",
       "      <th>0 days</th>\n",
       "      <th>0 days 00:00:02.414125</th>\n",
       "      <td>0.414406</td>\n",
       "      <td>4.173381</td>\n",
       "      <td>2.015708</td>\n",
       "      <td>-5.470536</td>\n",
       "    </tr>\n",
       "    <tr>\n",
       "      <th>wav/16b10Wb.wav</th>\n",
       "      <th>0 days</th>\n",
       "      <th>0 days 00:00:02.522499999</th>\n",
       "      <td>0.388560</td>\n",
       "      <td>3.874007</td>\n",
       "      <td>1.189142</td>\n",
       "      <td>-4.586453</td>\n",
       "    </tr>\n",
       "  </tbody>\n",
       "</table>\n",
       "<p>535 rows × 4 columns</p>\n",
       "</div>"
      ],
      "text/plain": [
       "                                                       age    female  \\\n",
       "file            start  end                                             \n",
       "wav/03a01Fa.wav 0 days 0 days 00:00:01.898250     0.440541  1.464881   \n",
       "wav/03a01Nc.wav 0 days 0 days 00:00:01.611250     0.262211 -1.394964   \n",
       "wav/03a01Wa.wav 0 days 0 days 00:00:01.877812500  0.417828  0.194385   \n",
       "wav/03a02Fc.wav 0 days 0 days 00:00:02.006250     0.311120  1.907180   \n",
       "wav/03a02Nc.wav 0 days 0 days 00:00:01.439812500  0.287216 -1.302027   \n",
       "...                                                    ...       ...   \n",
       "wav/16b10Lb.wav 0 days 0 days 00:00:03.442687500  0.399840  6.157269   \n",
       "wav/16b10Tb.wav 0 days 0 days 00:00:03.500625     0.391874  5.663276   \n",
       "wav/16b10Td.wav 0 days 0 days 00:00:03.934187500  0.354147  5.773487   \n",
       "wav/16b10Wa.wav 0 days 0 days 00:00:02.414125     0.414406  4.173381   \n",
       "wav/16b10Wb.wav 0 days 0 days 00:00:02.522499999  0.388560  3.874007   \n",
       "\n",
       "                                                      male     child  \n",
       "file            start  end                                            \n",
       "wav/03a01Fa.wav 0 days 0 days 00:00:01.898250     4.078879 -4.503115  \n",
       "wav/03a01Nc.wav 0 days 0 days 00:00:01.611250     6.082706 -3.376553  \n",
       "wav/03a01Wa.wav 0 days 0 days 00:00:01.877812500  5.651813 -4.512995  \n",
       "wav/03a02Fc.wav 0 days 0 days 00:00:02.006250     1.848307 -3.264290  \n",
       "wav/03a02Nc.wav 0 days 0 days 00:00:01.439812500  6.188240 -3.562538  \n",
       "...                                                    ...       ...  \n",
       "wav/16b10Lb.wav 0 days 0 days 00:00:03.442687500 -1.738880 -4.453460  \n",
       "wav/16b10Tb.wav 0 days 0 days 00:00:03.500625    -0.568825 -4.939527  \n",
       "wav/16b10Td.wav 0 days 0 days 00:00:03.934187500 -1.090130 -4.626004  \n",
       "wav/16b10Wa.wav 0 days 0 days 00:00:02.414125     2.015708 -5.470536  \n",
       "wav/16b10Wb.wav 0 days 0 days 00:00:02.522499999  1.189142 -4.586453  \n",
       "\n",
       "[535 rows x 4 columns]"
      ]
     },
     "execution_count": 7,
     "metadata": {},
     "output_type": "execute_result"
    }
   ],
   "source": [
    "pred = interface.process_index(\n",
    "    df.index,\n",
    "    root=db.root,\n",
    "    cache_root=cache_root,\n",
    ")\n",
    "pred"
   ]
  },
  {
   "cell_type": "markdown",
   "id": "c2e66316",
   "metadata": {},
   "source": [
    "We multiply the normalized age predictions by 100."
   ]
  },
  {
   "cell_type": "code",
   "execution_count": 8,
   "id": "8333fb54",
   "metadata": {},
   "outputs": [],
   "source": [
    "pred_age = pred.age * 100"
   ]
  },
  {
   "cell_type": "markdown",
   "id": "35609542",
   "metadata": {},
   "source": [
    "And determine the winning gender class."
   ]
  },
  {
   "cell_type": "code",
   "execution_count": 9,
   "id": "6e750778",
   "metadata": {},
   "outputs": [],
   "source": [
    "pred_gender = pred.drop('age', axis=1).idxmax(axis=1)"
   ]
  },
  {
   "cell_type": "markdown",
   "id": "e0781912",
   "metadata": {},
   "source": [
    "We measure age performance by means of Mean Absolute Error (MAE), which we calculate with [audmetric](https://github.com/audeering/audmetric). In addition, we show a distribution plot that we create with [audplot](https://github.com/audeering/audplot)."
   ]
  },
  {
   "cell_type": "code",
   "execution_count": 10,
   "id": "45640e3b",
   "metadata": {
    "scrolled": false
   },
   "outputs": [
    {
     "data": {
      "text/plain": [
       "8.348510439150802"
      ]
     },
     "execution_count": 10,
     "metadata": {},
     "output_type": "execute_result"
    },
    {
     "data": {
      "image/png": "[encoded data removed]",
      "text/plain": [
       "<Figure size 640x480 with 1 Axes>"
      ]
     },
     "metadata": {},
     "output_type": "display_data"
    }
   ],
   "source": [
    "import audmetric\n",
    "import audplot\n",
    "\n",
    "\n",
    "audplot.distribution(age, pred_age)\n",
    "audmetric.mean_absolute_error(    \n",
    "    age,\n",
    "    pred_age,\n",
    ")"
   ]
  },
  {
   "cell_type": "markdown",
   "id": "d747718a",
   "metadata": {},
   "source": [
    "A mean average error of about 8 years is within the range we see for the datasets in the paper (tba). From the distribution we see that some of the samples are predicted too old.\n",
    "\n",
    "To evaluate our gender predictions we calculate Unweighted Average Recall (UAR) and show a confusion matrix."
   ]
  },
  {
   "cell_type": "code",
   "execution_count": 11,
   "id": "7978496c",
   "metadata": {
    "scrolled": false
   },
   "outputs": [
    {
     "data": {
      "text/plain": [
       "96.04496489781997"
      ]
     },
     "execution_count": 11,
     "metadata": {},
     "output_type": "execute_result"
    },
    {
     "data": {
      "image/png": "[encoded data removed]",
      "text/plain": [
       "<Figure size 640x480 with 1 Axes>"
      ]
     },
     "metadata": {},
     "output_type": "display_data"
    }
   ],
   "source": [
    "audplot.confusion_matrix(\n",
    "    gender, \n",
    "    pred_gender,\n",
    "    percentage=True,\n",
    "    show_both=True,\n",
    ")\n",
    "audmetric.unweighted_average_recall(\n",
    "    gender, \n",
    "    pred_gender,\n",
    ") * 100"
   ]
  },
  {
   "cell_type": "markdown",
   "id": "830ec788",
   "metadata": {},
   "source": [
    "The confusion matrix tells us that almost all male samples are correctly labeled, but some of the female samples are mis-classified. A likely assumption is that the model has mainly issues with the affective speech. To prove this, we repeat the evaluation on the neutral samples."
   ]
  },
  {
   "cell_type": "code",
   "execution_count": 12,
   "id": "25a7b833",
   "metadata": {
    "scrolled": false
   },
   "outputs": [
    {
     "data": {
      "text/plain": [
       "5.940903651563427"
      ]
     },
     "execution_count": 12,
     "metadata": {},
     "output_type": "execute_result"
    },
    {
     "data": {
      "image/png": "[encoded data removed]",
      "text/plain": [
       "<Figure size 640x480 with 1 Axes>"
      ]
     },
     "metadata": {},
     "output_type": "display_data"
    }
   ],
   "source": [
    "mask = (emotion == 'neutral').values\n",
    "\n",
    "audplot.distribution(age[mask], pred_age[mask])\n",
    "audmetric.mean_absolute_error(    \n",
    "    age[mask],\n",
    "    pred_age[mask],\n",
    ")"
   ]
  },
  {
   "cell_type": "markdown",
   "id": "4f595ad0",
   "metadata": {},
   "source": [
    "And indeed, the error of the age prediction decreases by 2 years. And we get a perfect prediction of gender."
   ]
  },
  {
   "cell_type": "code",
   "execution_count": 13,
   "id": "1f3375bb",
   "metadata": {
    "scrolled": false
   },
   "outputs": [
    {
     "data": {
      "text/plain": [
       "100.0"
      ]
     },
     "execution_count": 13,
     "metadata": {},
     "output_type": "execute_result"
    },
    {
     "data": {
      "image/png": "[encoded data removed]",
      "text/plain": [
       "<Figure size 640x480 with 1 Axes>"
      ]
     },
     "metadata": {},
     "output_type": "display_data"
    }
   ],
   "source": [
    "audplot.confusion_matrix(\n",
    "    gender[mask], \n",
    "    pred_gender[mask],\n",
    "    percentage=True,\n",
    "    show_both=True,\n",
    ")\n",
    "audmetric.unweighted_average_recall(\n",
    "    gender[mask], \n",
    "    pred_gender[mask],\n",
    ") * 100"
   ]
  }
 ],
 "metadata": {
  "kernelspec": {
   "display_name": "Python 3 (ipykernel)",
   "language": "python",
   "name": "python3"
  },
  "language_info": {
   "codemirror_mode": {
    "name": "ipython",
    "version": 3
   },
   "file_extension": ".py",
   "mimetype": "text/x-python",
   "name": "python",
   "nbconvert_exporter": "python",
   "pygments_lexer": "ipython3",
   "version": "3.8.16"
  },
  "toc": {
   "base_numbering": 1,
   "nav_menu": {},
   "number_sections": true,
   "sideBar": true,
   "skip_h1_title": false,
   "title_cell": "Table of Contents",
   "title_sidebar": "Contents",
   "toc_cell": false,
   "toc_position": {},
   "toc_section_display": true,
   "toc_window_display": false
  }
 },
 "nbformat": 4,
 "nbformat_minor": 5
}
